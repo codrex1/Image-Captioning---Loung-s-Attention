{
  "nbformat": 4,
  "nbformat_minor": 0,
  "metadata": {
    "colab": {
      "name": "Long_Attention_Image_captioning.ipynb",
      "provenance": []
    },
    "kernelspec": {
      "name": "python3",
      "display_name": "Python 3"
    },
    "accelerator": "GPU"
  },
  "cells": [
    {
      "cell_type": "code",
      "metadata": {
        "id": "NRj_AN09r_-E"
      },
      "source": [
        "import tensorflow as tf\n",
        "import numpy as np\n",
        "from tensorflow.keras.applications.vgg16 import  VGG16\n",
        "from tensorflow.keras.applications.vgg16 import preprocess_input\n",
        "import warnings\n",
        "import os\n",
        "import pickle\n",
        "import time\n",
        "import json\n",
        "import cv2\n",
        "import re\n",
        "import string\n",
        "import unicodedata\n",
        "from sklearn.utils import shuffle\n",
        "from tqdm import tqdm\n",
        "warnings.filterwarnings(action = \"ignore\")"
      ],
      "execution_count": null,
      "outputs": []
    },
    {
      "cell_type": "code",
      "metadata": {
        "id": "27dmvSSasC0r",
        "colab": {
          "base_uri": "https://localhost:8080/",
          "height": 88
        },
        "outputId": "766d3925-bb4f-4967-ee98-b9e4d3d7369b"
      },
      "source": [
        "annotation_folder = '/annotations/'\n",
        "if not os.path.exists(os.path.abspath('.') + annotation_folder):\n",
        "  annotation_zip = tf.keras.utils.get_file('captions.zip',\n",
        "                                          cache_subdir=os.path.abspath('.'),\n",
        "                                          origin = \"https://github.com/jbrownlee/Datasets/releases/download/Flickr8k/Flickr8k_text.zip\",\n",
        "                                          extract = True)\n",
        "  os.remove(annotation_zip)\n",
        "\n",
        "image_folder = '/train2014/'\n",
        "if not os.path.exists(os.path.abspath('.') + image_folder):\n",
        "  image_zip = tf.keras.utils.get_file('train2014.zip',\n",
        "                                      cache_subdir=os.path.abspath('.'),\n",
        "                                      origin = \"https://github.com/jbrownlee/Datasets/releases/download/Flickr8k/Flickr8k_Dataset.zip\",\n",
        "                                      extract = True)\n",
        "  os.remove(image_zip)"
      ],
      "execution_count": null,
      "outputs": [
        {
          "output_type": "stream",
          "text": [
            "Downloading data from https://github.com/jbrownlee/Datasets/releases/download/Flickr8k/Flickr8k_text.zip\n",
            "2342912/2340801 [==============================] - 0s 0us/step\n",
            "Downloading data from https://github.com/jbrownlee/Datasets/releases/download/Flickr8k/Flickr8k_Dataset.zip\n",
            "1115422720/1115419746 [==============================] - 24s 0us/step\n"
          ],
          "name": "stdout"
        }
      ]
    },
    {
      "cell_type": "code",
      "metadata": {
        "id": "adqm5bFIsExT"
      },
      "source": [
        "text_path = \"/content/Flickr8k.token.txt\"\n",
        "images_path = \"/content/Flicker8k_Dataset\""
      ],
      "execution_count": null,
      "outputs": []
    },
    {
      "cell_type": "code",
      "metadata": {
        "id": "Yh-GfYAQsGuT"
      },
      "source": [
        "text = \"\"\n",
        "with open(text_path) as file:\n",
        "  text = file.read()\n",
        "\n",
        "def load_descriptions(doc):\n",
        "\tmapping = dict()\n",
        "\tfor line in doc.split('\\n'):\n",
        "\t\ttokens = line.split()\n",
        "\t\tif len(line) < 2:\n",
        "\t\t\tcontinue\n",
        "\t\timage_id, image_desc = tokens[0], tokens[1:]\n",
        "\t\timage_id = image_id.split('.')[0]\n",
        "\t\timage_desc = ' '.join(image_desc)\n",
        "\t\tif image_id not in mapping:\n",
        "\t\t\tmapping[image_id] = list()\n",
        "\t\tmapping[image_id].append(image_desc)\n",
        "\treturn mapping\n",
        "\n",
        "image_captions = load_descriptions(text)"
      ],
      "execution_count": null,
      "outputs": []
    },
    {
      "cell_type": "code",
      "metadata": {
        "id": "T-KWd6wVsIeS"
      },
      "source": [
        "def clean(lang):\n",
        "    pattern_ = re.compile('[^%s]' % re.escape(string.printable))\n",
        "    table = str.maketrans('','',string.punctuation)\n",
        "    lang = unicodedata.normalize('NFD',lang).encode('ascii','ignore').decode('UTF-8')\n",
        "    lang = lang.split()\n",
        "    lang = [pattern_.sub('',word) for word in lang]\n",
        "    lang = [word.lower() for word in lang]\n",
        "    lang = [word.translate(table) for word in lang]\n",
        "    lang = [word for word in lang if word.isalpha()]\n",
        "    return ' '.join(lang)"
      ],
      "execution_count": null,
      "outputs": []
    },
    {
      "cell_type": "code",
      "metadata": {
        "id": "NYc_kfexsLAT"
      },
      "source": [
        "for item in image_captions:\n",
        "  for i,lines in enumerate(image_captions[item]):\n",
        "    image_captions[item][i] = clean(lines)      "
      ],
      "execution_count": null,
      "outputs": []
    },
    {
      "cell_type": "code",
      "metadata": {
        "id": "UsoxZLtxsLdK"
      },
      "source": [
        "for key in image_captions.keys():\n",
        "  image_captions[key] = '<start> ' + image_captions[key][0] + ' <end>'  "
      ],
      "execution_count": null,
      "outputs": []
    },
    {
      "cell_type": "code",
      "metadata": {
        "id": "xngTeI63sLfp"
      },
      "source": [
        "# here i have not normalized the images cause i ran out of memory\n",
        "vectors = {}\n",
        "for image_names in os.listdir(images_path):\n",
        "  image_id = image_names.split('.')[0]\n",
        "  path = os.path.join(images_path,image_id + str(\".jpg\"))\n",
        "  image = cv2.imread(path)\n",
        "  image = cv2.resize(image,(224,224))\n",
        "  image = np.asarray(image)\n",
        "  try:\n",
        "    vectors[image_id] = image\n",
        "  except:\n",
        "    pass"
      ],
      "execution_count": null,
      "outputs": []
    },
    {
      "cell_type": "code",
      "metadata": {
        "id": "aS8McXuisPGr",
        "colab": {
          "base_uri": "https://localhost:8080/",
          "height": 835
        },
        "outputId": "fa2aee31-6edd-49aa-801a-ac83279adb5c"
      },
      "source": [
        "cnn_model  = VGG16(include_top = False , weights=\"imagenet\" )\n",
        "cnn_model.summary()"
      ],
      "execution_count": null,
      "outputs": [
        {
          "output_type": "stream",
          "text": [
            "Model: \"vgg16\"\n",
            "_________________________________________________________________\n",
            "Layer (type)                 Output Shape              Param #   \n",
            "=================================================================\n",
            "input_2 (InputLayer)         [(None, None, None, 3)]   0         \n",
            "_________________________________________________________________\n",
            "block1_conv1 (Conv2D)        (None, None, None, 64)    1792      \n",
            "_________________________________________________________________\n",
            "block1_conv2 (Conv2D)        (None, None, None, 64)    36928     \n",
            "_________________________________________________________________\n",
            "block1_pool (MaxPooling2D)   (None, None, None, 64)    0         \n",
            "_________________________________________________________________\n",
            "block2_conv1 (Conv2D)        (None, None, None, 128)   73856     \n",
            "_________________________________________________________________\n",
            "block2_conv2 (Conv2D)        (None, None, None, 128)   147584    \n",
            "_________________________________________________________________\n",
            "block2_pool (MaxPooling2D)   (None, None, None, 128)   0         \n",
            "_________________________________________________________________\n",
            "block3_conv1 (Conv2D)        (None, None, None, 256)   295168    \n",
            "_________________________________________________________________\n",
            "block3_conv2 (Conv2D)        (None, None, None, 256)   590080    \n",
            "_________________________________________________________________\n",
            "block3_conv3 (Conv2D)        (None, None, None, 256)   590080    \n",
            "_________________________________________________________________\n",
            "block3_pool (MaxPooling2D)   (None, None, None, 256)   0         \n",
            "_________________________________________________________________\n",
            "block4_conv1 (Conv2D)        (None, None, None, 512)   1180160   \n",
            "_________________________________________________________________\n",
            "block4_conv2 (Conv2D)        (None, None, None, 512)   2359808   \n",
            "_________________________________________________________________\n",
            "block4_conv3 (Conv2D)        (None, None, None, 512)   2359808   \n",
            "_________________________________________________________________\n",
            "block4_pool (MaxPooling2D)   (None, None, None, 512)   0         \n",
            "_________________________________________________________________\n",
            "block5_conv1 (Conv2D)        (None, None, None, 512)   2359808   \n",
            "_________________________________________________________________\n",
            "block5_conv2 (Conv2D)        (None, None, None, 512)   2359808   \n",
            "_________________________________________________________________\n",
            "block5_conv3 (Conv2D)        (None, None, None, 512)   2359808   \n",
            "_________________________________________________________________\n",
            "block5_pool (MaxPooling2D)   (None, None, None, 512)   0         \n",
            "=================================================================\n",
            "Total params: 14,714,688\n",
            "Trainable params: 14,714,688\n",
            "Non-trainable params: 0\n",
            "_________________________________________________________________\n"
          ],
          "name": "stdout"
        }
      ]
    },
    {
      "cell_type": "code",
      "metadata": {
        "id": "k0AZDNAZsQla"
      },
      "source": [
        "for key in vectors.keys():\n",
        "  vectors[key] = cnn_model(np.expand_dims(vectors[key],0))\n",
        "  "
      ],
      "execution_count": null,
      "outputs": []
    },
    {
      "cell_type": "code",
      "metadata": {
        "id": "iTTArZ5dsVir"
      },
      "source": [
        "for key in vectors.keys():\n",
        "  vectors[key] = np.reshape(vectors[key],(1,49,512))\n",
        "filename = 'image_vectors'\n",
        "outfile = open(filename,'wb')\n",
        "pickle.dump(vectors,outfile)\n",
        "outfile.close()"
      ],
      "execution_count": null,
      "outputs": []
    },
    {
      "cell_type": "code",
      "metadata": {
        "id": "L_1iWpcXsWYq",
        "colab": {
          "base_uri": "https://localhost:8080/",
          "height": 36
        },
        "outputId": "2f292d64-c6dd-49ae-a830-fab84de107b7"
      },
      "source": [
        "input_tensor = []\n",
        "target_tensor = []\n",
        "for key in vectors.keys():\n",
        "  if image_captions.get(key,None) is not None:\n",
        "    target_tensor.append(image_captions.get(key))\n",
        "    input_tensor.append(vectors[key])\n",
        "  else:\n",
        "    continue  \n",
        "input_tensor = tf.concat(input_tensor,axis = 0)\n",
        "target_tensor[0]"
      ],
      "execution_count": null,
      "outputs": [
        {
          "output_type": "execute_result",
          "data": {
            "application/vnd.google.colaboratory.intrinsic+json": {
              "type": "string"
            },
            "text/plain": [
              "'<start> a group of college students walk in nice weather <end>'"
            ]
          },
          "metadata": {
            "tags": []
          },
          "execution_count": 34
        }
      ]
    },
    {
      "cell_type": "code",
      "metadata": {
        "id": "4yHhQJWRsh4b",
        "colab": {
          "base_uri": "https://localhost:8080/",
          "height": 88
        },
        "outputId": "9174e5f6-22a0-4347-dc74-2b5349ba7e8c"
      },
      "source": [
        "source_sentence_tokenizer = tf.keras.preprocessing.text.Tokenizer(filters='')\n",
        "source_sentence_tokenizer.fit_on_texts(target_tensor)\n",
        "source_tensor = source_sentence_tokenizer.texts_to_sequences(target_tensor)\n",
        "source_tensor= tf.keras.preprocessing.sequence.pad_sequences(source_tensor,padding='post' )\n",
        "print(\"Max len of caption : \"  + str(len(source_tensor[0])))\n",
        "print(\"Source/Target shape : \" + str(len(source_tensor)))\n",
        "print(\"Source/Target shape : \",source_tensor.shape)\n",
        "print(\"Shape input tensor : \",input_tensor.shape)"
      ],
      "execution_count": null,
      "outputs": [
        {
          "output_type": "stream",
          "text": [
            "Max len of caption : 35\n",
            "Source/Target shape : 8091\n",
            "Source/Target shape :  (8091, 35)\n",
            "Shape input tensor :  (8091, 49, 512)\n"
          ],
          "name": "stdout"
        }
      ]
    },
    {
      "cell_type": "code",
      "metadata": {
        "id": "9I0y6RItsima",
        "colab": {
          "base_uri": "https://localhost:8080/",
          "height": 35
        },
        "outputId": "b8c1ea0d-d04e-4834-f19d-e09d12aea08d"
      },
      "source": [
        "BATCH_SIZE = 100\n",
        "embedding_dim = 256\n",
        "vocab_size = len(source_sentence_tokenizer.word_index) + 1\n",
        "units = 512\n",
        "num_steps = len(input_tensor) // BATCH_SIZE\n",
        "dataset = tf.data.Dataset.from_tensor_slices(\n",
        "    (input_tensor,source_tensor))\n",
        "dataset = dataset.batch(BATCH_SIZE)\n",
        "print(\"Vocab size is : \",vocab_size)"
      ],
      "execution_count": null,
      "outputs": [
        {
          "output_type": "stream",
          "text": [
            "Vocab size is :  4481\n"
          ],
          "name": "stdout"
        }
      ]
    },
    {
      "cell_type": "code",
      "metadata": {
        "id": "VzEtq_1oLJ8c"
      },
      "source": [
        "# This encoder is for Neural Machine Translation and other purposes\n",
        "class Encoder(tf.keras.Model):\n",
        "\n",
        "  def __init__(self,dim,units,vocab_size):\n",
        "    super(Encoder,self).__init__()\n",
        "    self.dim = dim\n",
        "    self.units = units\n",
        "    self.vocab_size = vocab_size\n",
        "    self.embedding = tf.keras.layers.Embedding(self.vocab_size,self.dim)\n",
        "    self.LSTM = tf.keras.layers.LSTM(self.units,return_sequences = True, return_state = True, recurrent_initializer='glorot_uniform') \n",
        "\n",
        "    def call(self,x,hidden):\n",
        "\n",
        "      x = self.embeddding(x)\n",
        "      x = self.LSTM(x,hiddden)  \n",
        "      return x\n",
        "\n",
        "\n",
        "  def init_hidden(self,batch):\n",
        "     return (tf.zeros([batch,self.units]),tf.zeros([batch,self.units]))  \n",
        "\n",
        "\n",
        "class CNN_Encoder(tf.keras.Model):\n",
        "    # Since you have already extracted the features and dumped it using pickle\n",
        "    # This encoder passes those features through a Fully connected layer\n",
        "\n",
        "    def __init__(self, embedding_dim):\n",
        "        super(CNN_Encoder, self).__init__()\n",
        "        # shape after fc == (batch_size, 64, embedding_dim)\n",
        "        self.fc = tf.keras.layers.Dense(embedding_dim)\n",
        "\n",
        "    def call(self, x):\n",
        "        x = self.fc(x)\n",
        "        x = tf.nn.relu(x)\n",
        "        return x\n",
        "\n",
        "\n",
        "class LoungAttention(tf.keras.layers.Layer):\n",
        "\n",
        "  def __init__(self,units):\n",
        "     super(LoungAttention,self).__init__()\n",
        "     self.units = units\n",
        "     self.ws = tf.keras.layers.Dense(self.units) \n",
        "     self.wc = tf.keras.layers.Dense(self.units) \n",
        "  \n",
        "  def call(self,hidden,encoder_output):\n",
        "\n",
        "    hidden = tf.expand_dims(hidden,axis = 1)\n",
        "    score  = tf.matmul(hidden,self.ws(encoder_output),transpose_b = True)\n",
        "    score = tf.nn.softmax(score,axis = 2)\n",
        "    attention = tf.matmul(score,self.wc(encoder_output))\n",
        "    return tf.squeeze(attention,axis = 1)\n",
        "   \n",
        "\n",
        "class Decoder(tf.keras.Model):\n",
        "\n",
        "  def __init__(self,dim,units,vocab_size):\n",
        "      super(Decoder,self).__init__()\n",
        "      self.dim = dim\n",
        "      self.units = units\n",
        "      self.vocab_size = vocab_size\n",
        "      self.embedding = tf.keras.layers.Embedding(self.vocab_size,self.dim)\n",
        "      self.LSTM = tf.keras.layers.LSTM(self.units,return_sequences = True, return_state = True, recurrent_initializer='glorot_uniform') \n",
        "      self.attention_layer = LoungAttention(self.units)\n",
        "      self.wc = tf.keras.layers.Dense(self.units, activation='tanh')\n",
        "      self.ws = tf.keras.layers.Dense(self.vocab_size)\n",
        "\n",
        "  def call(self,x,hidden,encoder_output):\n",
        "\n",
        "    x = self.embedding(x)\n",
        "    lstm_out, state_h, state_c = self.LSTM(x, initial_state = hidden)\n",
        "  \n",
        "    context_vector = self.attention_layer(state_h,encoder_output) # batch,units\n",
        "    output = tf.concat([tf.squeeze(lstm_out,axis = 1),context_vector],axis = -1)\n",
        "    output = self.wc(output)\n",
        "    output = self.ws(output)\n",
        "    return output,state_h,state_c\n",
        "\n",
        "  def reset_state(self,batch):\n",
        "    return (tf.zeros([batch,self.units]),tf.zeros([batch,self.units]))  \n"
      ],
      "execution_count": null,
      "outputs": []
    },
    {
      "cell_type": "code",
      "metadata": {
        "id": "XaLFeZP6pkVs"
      },
      "source": [
        "encoder = CNN_Encoder(embedding_dim)\n",
        "decoder = Decoder(embedding_dim, units, vocab_size)"
      ],
      "execution_count": null,
      "outputs": []
    },
    {
      "cell_type": "code",
      "metadata": {
        "id": "rAEGIe8GUydx"
      },
      "source": [
        "optimizer = tf.keras.optimizers.Adam()\n",
        "loss_object = tf.keras.losses.SparseCategoricalCrossentropy(\n",
        "    from_logits=True, reduction='none')\n",
        "\n",
        "def loss_function(real, pred):\n",
        "  mask = tf.math.logical_not(tf.math.equal(real, 0))\n",
        "  loss_ = loss_object(real, pred)\n",
        "\n",
        "  mask = tf.cast(mask, dtype=loss_.dtype)\n",
        "  loss_ *= mask\n",
        "\n",
        "  return tf.reduce_mean(loss_)"
      ],
      "execution_count": null,
      "outputs": []
    },
    {
      "cell_type": "code",
      "metadata": {
        "id": "Lc0oUgfHsuXa"
      },
      "source": [
        "@tf.function\n",
        "def train_step(img_tensor, target):\n",
        "  loss = 0\n",
        "  hidden = decoder.reset_state(batch = target.shape[0])\n",
        "  decoder_input = tf.expand_dims([source_sentence_tokenizer.word_index['<start>']] * target.shape[0], 1)\n",
        "\n",
        "  with tf.GradientTape() as tape:\n",
        "      encoder_output = encoder(img_tensor)\n",
        "\n",
        "      for i in range(1, target.shape[1]):\n",
        "          decoder_output = decoder(decoder_input,hidden,encoder_output)\n",
        "          hidden = decoder_output[1:]\n",
        "          loss += loss_function(target[:, i], decoder_output[0])\n",
        "          decoder_input = tf.expand_dims(target[:, i], 1)\n",
        "\n",
        "  total_loss = (loss / int(target.shape[1]))\n",
        "  trainable_variables = encoder.trainable_variables + decoder.trainable_variables\n",
        "  gradients = tape.gradient(loss, trainable_variables)\n",
        "  optimizer.apply_gradients(zip(gradients, trainable_variables))\n",
        "\n",
        "  return loss, total_loss"
      ],
      "execution_count": null,
      "outputs": []
    },
    {
      "cell_type": "code",
      "metadata": {
        "id": "2DDcnUW1yvTw"
      },
      "source": [
        "checkpoint_path = \"./checkpoints/train\"\n",
        "ckpt = tf.train.Checkpoint(encoder=encoder,\n",
        "                           decoder=decoder,\n",
        "                           optimizer = optimizer)\n",
        "c/"
      ],
      "execution_count": null,
      "outputs": []
    },
    {
      "cell_type": "code",
      "metadata": {
        "id": "LGU5Lk5HswQs",
        "colab": {
          "base_uri": "https://localhost:8080/",
          "height": 1000
        },
        "outputId": "7bb8ebbf-f99a-46fa-89b4-26c6bc179d92"
      },
      "source": [
        "\"\"\"EPOCHS = 100\n",
        "loss_plot = []\n",
        "for epoch in range(EPOCHS):\n",
        "    start = time.time()\n",
        "    total_loss = 0\n",
        "\n",
        "    for (batch, (img_tensor, target)) in enumerate(dataset.take(-1)):\n",
        "        batch_loss, t_loss = train_step(img_tensor, target)\n",
        "        total_loss += t_loss\n",
        "\n",
        "    loss_plot.append(total_loss / num_steps)\n",
        "\n",
        "    if epoch % 5 == 0:\n",
        "      ckpt_manager.save()\n",
        "\n",
        "    print ('Epoch {} Loss {:.6f}'.format(epoch + 1,\n",
        "                                         total_loss/num_steps))\n",
        "    print ('Time taken for 1 epoch {} sec\\n'.format(time.time() - start))\"\"\""
      ],
      "execution_count": null,
      "outputs": [
        {
          "output_type": "stream",
          "text": [
            "Epoch 1 Loss 1.755620\n",
            "Time taken for 1 epoch 12.623716831207275 sec\n",
            "\n",
            "Epoch 2 Loss 1.708492\n",
            "Time taken for 1 epoch 12.48074221611023 sec\n",
            "\n",
            "Epoch 3 Loss 1.681631\n",
            "Time taken for 1 epoch 12.469922542572021 sec\n",
            "\n",
            "Epoch 4 Loss 1.641180\n",
            "Time taken for 1 epoch 12.45289158821106 sec\n",
            "\n",
            "Epoch 5 Loss 1.570204\n",
            "Time taken for 1 epoch 12.476596355438232 sec\n",
            "\n",
            "Epoch 6 Loss 1.480142\n",
            "Time taken for 1 epoch 12.584820985794067 sec\n",
            "\n",
            "Epoch 7 Loss 1.386377\n",
            "Time taken for 1 epoch 12.479850769042969 sec\n",
            "\n",
            "Epoch 8 Loss 1.306499\n",
            "Time taken for 1 epoch 12.54543924331665 sec\n",
            "\n",
            "Epoch 9 Loss 1.249379\n",
            "Time taken for 1 epoch 12.479151487350464 sec\n",
            "\n",
            "Epoch 10 Loss 1.212836\n",
            "Time taken for 1 epoch 12.382791996002197 sec\n",
            "\n",
            "Epoch 11 Loss 1.173516\n",
            "Time taken for 1 epoch 12.566399574279785 sec\n",
            "\n",
            "Epoch 12 Loss 1.135935\n",
            "Time taken for 1 epoch 12.430074453353882 sec\n",
            "\n",
            "Epoch 13 Loss 1.105762\n",
            "Time taken for 1 epoch 12.391925573348999 sec\n",
            "\n",
            "Epoch 14 Loss 1.076325\n",
            "Time taken for 1 epoch 12.442643165588379 sec\n",
            "\n",
            "Epoch 15 Loss 1.056599\n",
            "Time taken for 1 epoch 12.403953790664673 sec\n",
            "\n",
            "Epoch 16 Loss 1.033505\n",
            "Time taken for 1 epoch 12.497199773788452 sec\n",
            "\n",
            "Epoch 17 Loss 0.995017\n",
            "Time taken for 1 epoch 12.394300699234009 sec\n",
            "\n",
            "Epoch 18 Loss 0.962415\n",
            "Time taken for 1 epoch 12.440695524215698 sec\n",
            "\n",
            "Epoch 19 Loss 0.932204\n",
            "Time taken for 1 epoch 12.399621725082397 sec\n",
            "\n",
            "Epoch 20 Loss 0.922686\n",
            "Time taken for 1 epoch 12.393928527832031 sec\n",
            "\n",
            "Epoch 21 Loss 0.923775\n",
            "Time taken for 1 epoch 12.524903774261475 sec\n",
            "\n",
            "Epoch 22 Loss 0.915179\n",
            "Time taken for 1 epoch 12.399444818496704 sec\n",
            "\n",
            "Epoch 24 Loss 0.895085\n",
            "Time taken for 1 epoch 12.375447273254395 sec\n",
            "\n",
            "Epoch 25 Loss 0.882340\n",
            "Time taken for 1 epoch 12.397867918014526 sec\n",
            "\n",
            "Epoch 26 Loss 0.853494\n",
            "Time taken for 1 epoch 12.559524059295654 sec\n",
            "\n",
            "Epoch 27 Loss 0.843172\n",
            "Time taken for 1 epoch 12.421055316925049 sec\n",
            "\n",
            "Epoch 28 Loss 0.826218\n",
            "Time taken for 1 epoch 12.432751893997192 sec\n",
            "\n",
            "Epoch 29 Loss 0.851808\n",
            "Time taken for 1 epoch 12.388028621673584 sec\n",
            "\n",
            "Epoch 30 Loss 0.819958\n",
            "Time taken for 1 epoch 12.410266160964966 sec\n",
            "\n",
            "Epoch 31 Loss 0.800417\n",
            "Time taken for 1 epoch 12.502799034118652 sec\n",
            "\n",
            "Epoch 32 Loss 0.791109\n",
            "Time taken for 1 epoch 12.353082656860352 sec\n",
            "\n",
            "Epoch 33 Loss 0.786080\n",
            "Time taken for 1 epoch 12.437384843826294 sec\n",
            "\n",
            "Epoch 34 Loss 0.775091\n",
            "Time taken for 1 epoch 12.419068574905396 sec\n",
            "\n",
            "Epoch 35 Loss 0.761332\n",
            "Time taken for 1 epoch 12.340086460113525 sec\n",
            "\n",
            "Epoch 36 Loss 0.735997\n",
            "Time taken for 1 epoch 12.519315719604492 sec\n",
            "\n",
            "Epoch 37 Loss 0.718859\n",
            "Time taken for 1 epoch 12.348480701446533 sec\n",
            "\n",
            "Epoch 38 Loss 0.698330\n",
            "Time taken for 1 epoch 12.373747825622559 sec\n",
            "\n",
            "Epoch 39 Loss 0.697314\n",
            "Time taken for 1 epoch 12.361465454101562 sec\n",
            "\n",
            "Epoch 40 Loss 0.687010\n",
            "Time taken for 1 epoch 12.351471900939941 sec\n",
            "\n",
            "Epoch 41 Loss 0.673824\n",
            "Time taken for 1 epoch 12.513083219528198 sec\n",
            "\n",
            "Epoch 42 Loss 0.656424\n",
            "Time taken for 1 epoch 12.392780303955078 sec\n",
            "\n",
            "Epoch 43 Loss 0.648246\n",
            "Time taken for 1 epoch 12.366058588027954 sec\n",
            "\n",
            "Epoch 44 Loss 0.633116\n",
            "Time taken for 1 epoch 12.31785249710083 sec\n",
            "\n",
            "Epoch 45 Loss 0.646909\n",
            "Time taken for 1 epoch 12.355693578720093 sec\n",
            "\n",
            "Epoch 46 Loss 0.637358\n",
            "Time taken for 1 epoch 12.459347009658813 sec\n",
            "\n",
            "Epoch 47 Loss 0.642950\n",
            "Time taken for 1 epoch 12.341588258743286 sec\n",
            "\n",
            "Epoch 48 Loss 0.627896\n",
            "Time taken for 1 epoch 12.324491739273071 sec\n",
            "\n",
            "Epoch 49 Loss 0.617834\n",
            "Time taken for 1 epoch 12.33961820602417 sec\n",
            "\n",
            "Epoch 50 Loss 0.629953\n",
            "Time taken for 1 epoch 12.320672988891602 sec\n",
            "\n",
            "Epoch 51 Loss 0.641723\n",
            "Time taken for 1 epoch 12.438726425170898 sec\n",
            "\n",
            "Epoch 52 Loss 0.625604\n",
            "Time taken for 1 epoch 12.288597106933594 sec\n",
            "\n",
            "Epoch 53 Loss 0.618807\n",
            "Time taken for 1 epoch 12.305505752563477 sec\n",
            "\n",
            "Epoch 54 Loss 0.600916\n",
            "Time taken for 1 epoch 12.3407564163208 sec\n",
            "\n",
            "Epoch 55 Loss 0.598470\n",
            "Time taken for 1 epoch 12.301328182220459 sec\n",
            "\n",
            "Epoch 56 Loss 0.602412\n",
            "Time taken for 1 epoch 12.449899673461914 sec\n",
            "\n",
            "Epoch 57 Loss 0.587589\n",
            "Time taken for 1 epoch 12.3307204246521 sec\n",
            "\n",
            "Epoch 58 Loss 0.617581\n",
            "Time taken for 1 epoch 12.43798279762268 sec\n",
            "\n",
            "Epoch 59 Loss 0.618791\n",
            "Time taken for 1 epoch 12.348191022872925 sec\n",
            "\n",
            "Epoch 60 Loss 0.596036\n",
            "Time taken for 1 epoch 12.339511394500732 sec\n",
            "\n",
            "Epoch 61 Loss 0.572460\n",
            "Time taken for 1 epoch 12.451493501663208 sec\n",
            "\n",
            "Epoch 62 Loss 0.577109\n",
            "Time taken for 1 epoch 12.314225673675537 sec\n",
            "\n",
            "Epoch 63 Loss 0.566308\n",
            "Time taken for 1 epoch 12.301540613174438 sec\n",
            "\n",
            "Epoch 64 Loss 0.579673\n",
            "Time taken for 1 epoch 12.286701679229736 sec\n",
            "\n",
            "Epoch 65 Loss 0.578925\n",
            "Time taken for 1 epoch 12.271943092346191 sec\n",
            "\n",
            "Epoch 66 Loss 0.577261\n",
            "Time taken for 1 epoch 12.404613494873047 sec\n",
            "\n",
            "Epoch 67 Loss 0.551289\n",
            "Time taken for 1 epoch 12.318730354309082 sec\n",
            "\n",
            "Epoch 68 Loss 0.598628\n",
            "Time taken for 1 epoch 12.312337875366211 sec\n",
            "\n",
            "Epoch 69 Loss 0.584540\n",
            "Time taken for 1 epoch 12.302355289459229 sec\n",
            "\n",
            "Epoch 70 Loss 0.546293\n",
            "Time taken for 1 epoch 12.322885990142822 sec\n",
            "\n",
            "Epoch 71 Loss 0.516255\n",
            "Time taken for 1 epoch 12.42516541481018 sec\n",
            "\n",
            "Epoch 72 Loss 0.498052\n",
            "Time taken for 1 epoch 12.339813709259033 sec\n",
            "\n",
            "Epoch 73 Loss 0.496964\n",
            "Time taken for 1 epoch 12.315925598144531 sec\n",
            "\n",
            "Epoch 74 Loss 0.490345\n",
            "Time taken for 1 epoch 12.30185580253601 sec\n",
            "\n",
            "Epoch 75 Loss 0.501286\n",
            "Time taken for 1 epoch 12.292506694793701 sec\n",
            "\n",
            "Epoch 76 Loss 0.518696\n",
            "Time taken for 1 epoch 12.409923791885376 sec\n",
            "\n",
            "Epoch 77 Loss 0.542273\n",
            "Time taken for 1 epoch 12.321000576019287 sec\n",
            "\n",
            "Epoch 78 Loss 0.532400\n",
            "Time taken for 1 epoch 12.29356575012207 sec\n",
            "\n",
            "Epoch 79 Loss 0.515706\n",
            "Time taken for 1 epoch 12.335755348205566 sec\n",
            "\n",
            "Epoch 80 Loss 0.498347\n",
            "Time taken for 1 epoch 12.30434274673462 sec\n",
            "\n",
            "Epoch 81 Loss 0.522717\n",
            "Time taken for 1 epoch 12.41684341430664 sec\n",
            "\n",
            "Epoch 82 Loss 0.531364\n",
            "Time taken for 1 epoch 12.328231573104858 sec\n",
            "\n",
            "Epoch 83 Loss 0.517509\n",
            "Time taken for 1 epoch 12.348749160766602 sec\n",
            "\n",
            "Epoch 84 Loss 0.511276\n",
            "Time taken for 1 epoch 12.290134191513062 sec\n",
            "\n",
            "Epoch 85 Loss 0.533391\n",
            "Time taken for 1 epoch 12.296407461166382 sec\n",
            "\n",
            "Epoch 86 Loss 0.525430\n",
            "Time taken for 1 epoch 12.407671451568604 sec\n",
            "\n",
            "Epoch 87 Loss 0.509988\n",
            "Time taken for 1 epoch 12.306133031845093 sec\n",
            "\n",
            "Epoch 88 Loss 0.498328\n",
            "Time taken for 1 epoch 12.257277727127075 sec\n",
            "\n",
            "Epoch 89 Loss 0.501444\n",
            "Time taken for 1 epoch 12.244408130645752 sec\n",
            "\n",
            "Epoch 90 Loss 0.504728\n",
            "Time taken for 1 epoch 12.256011724472046 sec\n",
            "\n",
            "Epoch 91 Loss 0.518257\n",
            "Time taken for 1 epoch 12.345856666564941 sec\n",
            "\n",
            "Epoch 92 Loss 0.524816\n",
            "Time taken for 1 epoch 12.323119640350342 sec\n",
            "\n",
            "Epoch 93 Loss 0.531218\n",
            "Time taken for 1 epoch 12.289631128311157 sec\n",
            "\n",
            "Epoch 94 Loss 0.556322\n",
            "Time taken for 1 epoch 12.243041276931763 sec\n",
            "\n",
            "Epoch 95 Loss 0.529409\n",
            "Time taken for 1 epoch 12.284076452255249 sec\n",
            "\n",
            "Epoch 96 Loss 0.503137\n",
            "Time taken for 1 epoch 12.377111911773682 sec\n",
            "\n",
            "Epoch 97 Loss 0.505171\n",
            "Time taken for 1 epoch 12.257174730300903 sec\n",
            "\n",
            "Epoch 98 Loss 0.523455\n",
            "Time taken for 1 epoch 12.231595754623413 sec\n",
            "\n",
            "Epoch 99 Loss 0.528837\n",
            "Time taken for 1 epoch 12.267361879348755 sec\n",
            "\n",
            "Epoch 100 Loss 0.498514\n",
            "Time taken for 1 epoch 12.29877233505249 sec\n",
            "\n"
          ],
          "name": "stdout"
        }
      ]
    },
    {
      "cell_type": "code",
      "metadata": {
        "id": "Kk1OB5kCvg-Q"
      },
      "source": [
        "encoder.save_weights('encoder_Loung.h5')\n",
        "decoder.save_weights('decoder_Loung.h5')"
      ],
      "execution_count": null,
      "outputs": []
    },
    {
      "cell_type": "code",
      "metadata": {
        "id": "C3VJTcYbvMof",
        "colab": {
          "base_uri": "https://localhost:8080/",
          "height": 280
        },
        "outputId": "46f0f7be-9283-4700-c4c4-d6fcd0c60f41"
      },
      "source": [
        "import matplotlib.pyplot as plt\n",
        "plt.plot(np.arange(1,EPOCHS+1,1),loss_plot)\n",
        "plt.xlabel('epochs')\n",
        "plt.ylabel('loss');"
      ],
      "execution_count": null,
      "outputs": [
        {
          "output_type": "display_data",
          "data": {
            "image/png": "[encoded data removed]",
            "text/plain": [
              "<Figure size 432x288 with 1 Axes>"
            ]
          },
          "metadata": {
            "tags": [],
            "needs_background": "light"
          }
        }
      ]
    },
    {
      "cell_type": "code",
      "metadata": {
        "id": "kkb8kZDE6uo2"
      },
      "source": [
        ""
      ],
      "execution_count": null,
      "outputs": []
    }
  ]
}